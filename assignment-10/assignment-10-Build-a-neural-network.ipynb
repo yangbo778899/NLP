{
 "cells": [
  {
   "cell_type": "markdown",
   "metadata": {},
   "source": [
    "## Target: using python and numpy implement a neural network framework.\n",
    "\n",
    "Node:\n",
    "+ forward: Function, how to calculate the inputs\n",
    "+ backwards: Function, how to get the gradients when backpropogation\n",
    "+ gradients: Mapper, the gradient map the this node of its inputs node\n",
    "+ inputs: List, the input nodes of this node\n",
    "+ outputs: List, the output node of this node"
   ]
  },
  {
   "cell_type": "code",
   "execution_count": 177,
   "metadata": {},
   "outputs": [],
   "source": [
    "class Node:\n",
    "    \"\"\"\n",
    "    Each node in neural networks will have these attributes and methods\n",
    "    \"\"\"\n",
    "    def __init__(self, inputs=[]):\n",
    "        \"\"\"\n",
    "        if the node is the operator of \"ax + b\", the inputs will be x node , and the outputs \n",
    "        of this is its successors. \n",
    "        \n",
    "        and the value is *ax + b*\n",
    "        \"\"\"\n",
    "        self.inputs = inputs # input_list <- C, Java <- 匈牙利命名法 -> Python 特别不建议\n",
    "       # self.outputs = outputs # output_list \n",
    "        self.value = None \n",
    "        self.outputs = []\n",
    "        self.gradients = {}\n",
    "        \n",
    "        for node in self.inputs:\n",
    "            node.outputs.append(self) # build a connection relationship\n",
    "    \n",
    "    def forward(self):\n",
    "        \"\"\"Forward propogation\n",
    "        \n",
    "        compute the output value based on input nodes and store the value \n",
    "        into *self.value*\n",
    "        \"\"\"\n",
    "        raise NotImplemented\n",
    "    \n",
    "    def backward(self):\n",
    "        \"\"\" Back propogation\n",
    "        \n",
    "        compute the gradient of each input node and store the value \n",
    "        into \"self.gredients\"\n",
    "        \"\"\"\n",
    "        raise NotImplemented"
   ]
  },
  {
   "cell_type": "code",
   "execution_count": 178,
   "metadata": {},
   "outputs": [],
   "source": [
    "class Input(Node):\n",
    "    def __init__(self, name=''):\n",
    "        Node.__init__(self, inputs=[])\n",
    "        self.name= name\n",
    "    \n",
    "    def forward(self, value=None):\n",
    "        if value is not None:\n",
    "            self.value = value\n",
    "        \n",
    "    def backward(self):\n",
    "        self.gradients = {}\n",
    "        \n",
    "        for n in self.outputs:\n",
    "            grad_cost = n.gradients[self]\n",
    "            self.gradients[self] = grad_cost\n",
    "    \n",
    "    def __repr__(self):\n",
    "        return 'Input Node: {}'.format(self.name)"
   ]
  },
  {
   "cell_type": "code",
   "execution_count": 179,
   "metadata": {},
   "outputs": [],
   "source": [
    "import numpy as np"
   ]
  },
  {
   "cell_type": "code",
   "execution_count": 180,
   "metadata": {},
   "outputs": [],
   "source": [
    "X = np.array([1, 2, 3])"
   ]
  },
  {
   "cell_type": "code",
   "execution_count": 181,
   "metadata": {},
   "outputs": [],
   "source": [
    "W = np.array([[1, 2], [2, 4], [3, 5]])"
   ]
  },
  {
   "cell_type": "code",
   "execution_count": 182,
   "metadata": {},
   "outputs": [
    {
     "data": {
      "text/plain": [
       "(3,)"
      ]
     },
     "execution_count": 182,
     "metadata": {},
     "output_type": "execute_result"
    }
   ],
   "source": [
    "X.shape"
   ]
  },
  {
   "cell_type": "code",
   "execution_count": 183,
   "metadata": {},
   "outputs": [
    {
     "data": {
      "text/plain": [
       "(3, 2)"
      ]
     },
     "execution_count": 183,
     "metadata": {},
     "output_type": "execute_result"
    }
   ],
   "source": [
    "W.shape"
   ]
  },
  {
   "cell_type": "code",
   "execution_count": 184,
   "metadata": {},
   "outputs": [],
   "source": [
    "B = np.array([1, 3])"
   ]
  },
  {
   "cell_type": "code",
   "execution_count": 185,
   "metadata": {},
   "outputs": [
    {
     "data": {
      "text/plain": [
       "(2,)"
      ]
     },
     "execution_count": 185,
     "metadata": {},
     "output_type": "execute_result"
    }
   ],
   "source": [
    "B.shape"
   ]
  },
  {
   "cell_type": "code",
   "execution_count": 186,
   "metadata": {},
   "outputs": [
    {
     "data": {
      "text/plain": [
       "array([14, 25])"
      ]
     },
     "execution_count": 186,
     "metadata": {},
     "output_type": "execute_result"
    }
   ],
   "source": [
    "np.dot(X, W)"
   ]
  },
  {
   "cell_type": "code",
   "execution_count": 187,
   "metadata": {},
   "outputs": [
    {
     "data": {
      "text/plain": [
       "array([15, 28])"
      ]
     },
     "execution_count": 187,
     "metadata": {},
     "output_type": "execute_result"
    }
   ],
   "source": [
    "np.dot(X, W) + B"
   ]
  },
  {
   "cell_type": "code",
   "execution_count": 188,
   "metadata": {},
   "outputs": [],
   "source": [
    "class Linear(Node):\n",
    "    def __init__(self, nodes, weights, bias):\n",
    "        self.w_node = weights\n",
    "        self.x_node = nodes\n",
    "        self.b_node = bias\n",
    "        Node.__init__(self, inputs=[nodes, weights, bias])\n",
    "    \n",
    "    def forward(self): \n",
    "        \"\"\"compute the wx + b using numpy\"\"\"\n",
    "        self.value = np.dot(self.x_node.value, self.w_node.value) + self.b_node.value\n",
    "        \n",
    "    \n",
    "    def backward(self):\n",
    "        \n",
    "        for node in self.outputs:\n",
    "            #gradient_of_loss_of_this_output_node = node.gradient[self]\n",
    "            grad_cost = node.gradients[self]\n",
    "            \n",
    "            self.gradients[self.w_node] = np.dot(self.x_node.value.T, grad_cost)\n",
    "            self.gradients[self.b_node] = np.sum(grad_cost * 1, axis=0, keepdims=False)\n",
    "            self.gradients[self.x_node] = np.dot(grad_cost, self.w_node.value.T)"
   ]
  },
  {
   "cell_type": "code",
   "execution_count": 189,
   "metadata": {},
   "outputs": [],
   "source": [
    "class Sigmoid(Node):\n",
    "    def __init__(self, node):\n",
    "        Node.__init__(self, [node])\n",
    "        self.x_node = node\n",
    "    \n",
    "    def _sigmoid(self, x):\n",
    "        return 1. / (1 + np.exp(-1 * x))\n",
    "    \n",
    "    def forward(self):\n",
    "        self.value = self._sigmoid(self.x_node.value)\n",
    "    \n",
    "    def backward(self):\n",
    "        y = self.value\n",
    "        \n",
    "        self.partial = y * (1 - y)\n",
    "        \n",
    "        for n in self.outputs:\n",
    "            grad_cost = n.gradients[self]\n",
    "            \n",
    "            self.gradients[self.x_node] = grad_cost * self.partial        "
   ]
  },
  {
   "cell_type": "code",
   "execution_count": 190,
   "metadata": {},
   "outputs": [],
   "source": [
    "W1 = np.array([[1, 1], [1, 2], [1, 3]])\n",
    "W2 = np.array([[1, 1], [0, 2], [1, 4]])"
   ]
  },
  {
   "cell_type": "code",
   "execution_count": 191,
   "metadata": {},
   "outputs": [
    {
     "data": {
      "text/plain": [
       "array([[0],\n",
       "       [0],\n",
       "       [1],\n",
       "       [0],\n",
       "       [0],\n",
       "       [1]])"
      ]
     },
     "execution_count": 191,
     "metadata": {},
     "output_type": "execute_result"
    }
   ],
   "source": [
    "(W1.reshape(-1, 1) - W2.reshape(-1, 1)) ** 2"
   ]
  },
  {
   "cell_type": "code",
   "execution_count": 192,
   "metadata": {},
   "outputs": [],
   "source": [
    "class MSE(Node):\n",
    "    def __init__(self, y_true, y_hat):\n",
    "        self.y_true_node = y_true\n",
    "        self.y_hat_node = y_hat\n",
    "        Node.__init__(self, inputs=[y_true, y_hat])\n",
    "    \n",
    "    def forward(self):\n",
    "        y_true_flatten = self.y_true_node.value.reshape(-1, 1)\n",
    "        y_hat_flatten = self.y_hat_node.value.reshape(-1, 1)\n",
    "        \n",
    "        self.diff = y_true_flatten - y_hat_flatten\n",
    "        \n",
    "        self.value = np.mean(self.diff**2)\n",
    "        \n",
    "    def backward(self):\n",
    "        n = self.y_hat_node.value.shape[0]\n",
    "        \n",
    "        self.gradients[self.y_true_node] = (2 / n) * self.diff\n",
    "        self.gradients[self.y_hat_node] =  (-2 / n) * self.diff"
   ]
  },
  {
   "cell_type": "code",
   "execution_count": 193,
   "metadata": {},
   "outputs": [],
   "source": [
    "def training_one_batch(topological_sorted_graph):\n",
    "    # graph 是经过拓扑排序之后的 一个list\n",
    "    for node in topological_sorted_graph:\n",
    "        node.forward()\n",
    "        \n",
    "    for node in topological_sorted_graph[::-1]:\n",
    "        node.backward()"
   ]
  },
  {
   "cell_type": "code",
   "execution_count": 194,
   "metadata": {},
   "outputs": [],
   "source": [
    "def topological_sort(data_with_value):\n",
    "    feed_dict = data_with_value \n",
    "    input_nodes = [n for n in feed_dict.keys()]\n",
    "\n",
    "    G = {}\n",
    "    nodes = [n for n in input_nodes]\n",
    "    while len(nodes) > 0:\n",
    "        n = nodes.pop(0)\n",
    "        if n not in G:\n",
    "            G[n] = {'in': set(), 'out': set()}\n",
    "        for m in n.outputs:\n",
    "            if m not in G:\n",
    "                G[m] = {'in': set(), 'out': set()}\n",
    "            G[n]['out'].add(m)\n",
    "            G[m]['in'].add(n)\n",
    "            nodes.append(m)\n",
    "\n",
    "    L = []\n",
    "    S = set(input_nodes)\n",
    "    while len(S) > 0:\n",
    "        n = S.pop()\n",
    "\n",
    "        if isinstance(n, Input):\n",
    "            n.value = feed_dict[n]\n",
    "            ## if n is Input Node, set n'value as \n",
    "            ## feed_dict[n]\n",
    "            ## else, n's value is caculate as its\n",
    "            ## inbounds\n",
    "\n",
    "        L.append(n)\n",
    "        for m in n.outputs:\n",
    "            G[n]['out'].remove(m)\n",
    "            G[m]['in'].remove(n)\n",
    "            # if no other incoming edges add to S\n",
    "            if len(G[m]['in']) == 0:\n",
    "                S.add(m)\n",
    "    return L"
   ]
  },
  {
   "cell_type": "code",
   "execution_count": 195,
   "metadata": {},
   "outputs": [],
   "source": [
    "def sgd_update(trainable_nodes, learning_rate = 1e-2):\n",
    "    for t in trainable_nodes:\n",
    "        t.value += -1 * learning_rate * t.gradients[t]"
   ]
  },
  {
   "cell_type": "code",
   "execution_count": 196,
   "metadata": {},
   "outputs": [],
   "source": [
    "from sklearn.datasets import load_boston"
   ]
  },
  {
   "cell_type": "code",
   "execution_count": 197,
   "metadata": {},
   "outputs": [],
   "source": [
    "data = load_boston()"
   ]
  },
  {
   "cell_type": "code",
   "execution_count": 198,
   "metadata": {},
   "outputs": [
    {
     "data": {
      "text/plain": [
       "array([1, 2, 3])"
      ]
     },
     "execution_count": 198,
     "metadata": {},
     "output_type": "execute_result"
    }
   ],
   "source": [
    "X_ = data['data']\n",
    "X    # 上面定义的"
   ]
  },
  {
   "cell_type": "code",
   "execution_count": 199,
   "metadata": {},
   "outputs": [],
   "source": [
    "y_ = data['target']"
   ]
  },
  {
   "cell_type": "code",
   "execution_count": 200,
   "metadata": {},
   "outputs": [
    {
     "data": {
      "text/plain": [
       "array([6.320e-03, 1.800e+01, 2.310e+00, 0.000e+00, 5.380e-01, 6.575e+00,\n",
       "       6.520e+01, 4.090e+00, 1.000e+00, 2.960e+02, 1.530e+01, 3.969e+02,\n",
       "       4.980e+00])"
      ]
     },
     "execution_count": 200,
     "metadata": {},
     "output_type": "execute_result"
    }
   ],
   "source": [
    "X_[0]"
   ]
  },
  {
   "cell_type": "code",
   "execution_count": 201,
   "metadata": {},
   "outputs": [
    {
     "data": {
      "text/plain": [
       "24.0"
      ]
     },
     "execution_count": 201,
     "metadata": {},
     "output_type": "execute_result"
    }
   ],
   "source": [
    "y_[0]"
   ]
  },
  {
   "cell_type": "code",
   "execution_count": 202,
   "metadata": {},
   "outputs": [],
   "source": [
    "X_ = (X_ - np.mean(X_, axis=0)) / np.std(X_, axis=0)"
   ]
  },
  {
   "cell_type": "code",
   "execution_count": 203,
   "metadata": {},
   "outputs": [],
   "source": [
    "n_features = X_.shape[1]"
   ]
  },
  {
   "cell_type": "code",
   "execution_count": 204,
   "metadata": {},
   "outputs": [],
   "source": [
    "n_hidden = 10"
   ]
  },
  {
   "cell_type": "code",
   "execution_count": 205,
   "metadata": {},
   "outputs": [],
   "source": [
    "n_hidden_2 = 10"
   ]
  },
  {
   "cell_type": "code",
   "execution_count": 206,
   "metadata": {},
   "outputs": [
    {
     "data": {
      "text/plain": [
       "(3,)"
      ]
     },
     "execution_count": 206,
     "metadata": {},
     "output_type": "execute_result"
    }
   ],
   "source": [
    "X.shape"
   ]
  },
  {
   "cell_type": "code",
   "execution_count": 207,
   "metadata": {},
   "outputs": [],
   "source": [
    "W1_, b1_ = np.random.randn(n_features, n_hidden), np.zeros(n_hidden)"
   ]
  },
  {
   "cell_type": "code",
   "execution_count": 208,
   "metadata": {},
   "outputs": [],
   "source": [
    "W2_, b2_ = np.random.randn(n_hidden, 1), np.zeros(1)"
   ]
  },
  {
   "cell_type": "markdown",
   "metadata": {},
   "source": [
    "## Build a graph connection\n",
    "\n",
    "### 1st. Build Nodes in this graph"
   ]
  },
  {
   "cell_type": "code",
   "execution_count": 209,
   "metadata": {},
   "outputs": [],
   "source": [
    "X, y = Input(name='X'), Input(name='y')    # tensorflow -> placeholder\n",
    "\n",
    "W1, b1 = Input(name='W1'), Input(name='b1')\n",
    "W2, b2 = Input(name='W2'), Input(name='b2')"
   ]
  },
  {
   "cell_type": "markdown",
   "metadata": {},
   "source": [
    "### 2nd build connection relationship"
   ]
  },
  {
   "cell_type": "code",
   "execution_count": 210,
   "metadata": {},
   "outputs": [],
   "source": [
    "linear_output = Linear(X, W1, b1)\n",
    "sigmoid_output = Sigmoid(linear_output)\n",
    "yhat = Linear(sigmoid_output, W2, b2)\n",
    "loss = MSE(y, yhat)"
   ]
  },
  {
   "cell_type": "code",
   "execution_count": 211,
   "metadata": {},
   "outputs": [],
   "source": [
    "input_node_with_value = {  # -> feed_dict \n",
    "    X: X_, \n",
    "    y: y_, \n",
    "    W1: W1_, \n",
    "    W2: W2_, \n",
    "    b1: b1_, \n",
    "    b2: b2_\n",
    "}"
   ]
  },
  {
   "cell_type": "code",
   "execution_count": 212,
   "metadata": {},
   "outputs": [],
   "source": [
    "graph = topological_sort(input_node_with_value)"
   ]
  },
  {
   "cell_type": "code",
   "execution_count": 213,
   "metadata": {},
   "outputs": [
    {
     "data": {
      "text/plain": [
       "[Input Node: W1,\n",
       " Input Node: y,\n",
       " Input Node: b2,\n",
       " Input Node: W2,\n",
       " Input Node: b1,\n",
       " Input Node: X,\n",
       " <__main__.Linear at 0x1a1f59db70>,\n",
       " <__main__.Sigmoid at 0x1a1f59db00>,\n",
       " <__main__.Linear at 0x1a1f59deb8>,\n",
       " <__main__.MSE at 0x1a1f59dac8>]"
      ]
     },
     "execution_count": 213,
     "metadata": {},
     "output_type": "execute_result"
    }
   ],
   "source": [
    "graph"
   ]
  },
  {
   "cell_type": "code",
   "execution_count": 214,
   "metadata": {},
   "outputs": [],
   "source": [
    "from sklearn.utils import resample"
   ]
  },
  {
   "cell_type": "code",
   "execution_count": 215,
   "metadata": {},
   "outputs": [
    {
     "data": {
      "text/plain": [
       "array([29, 52, 12, 18, 88, 16, 19,  5, 21, 63])"
      ]
     },
     "execution_count": 215,
     "metadata": {},
     "output_type": "execute_result"
    }
   ],
   "source": [
    "np.random.choice(range(100), size=10, replace=True)"
   ]
  },
  {
   "cell_type": "code",
   "execution_count": 216,
   "metadata": {},
   "outputs": [],
   "source": [
    "def run(dictionary):\n",
    "    return topological_sort(dictionary)"
   ]
  },
  {
   "cell_type": "code",
   "execution_count": 217,
   "metadata": {},
   "outputs": [
    {
     "name": "stdout",
     "output_type": "stream",
     "text": [
      "Epoch: 1, loss = 565.920\n",
      "Epoch: 101, loss = 34.659\n",
      "Epoch: 201, loss = 30.108\n",
      "Epoch: 301, loss = 19.433\n",
      "Epoch: 401, loss = 17.523\n",
      "Epoch: 501, loss = 15.489\n",
      "Epoch: 601, loss = 11.957\n",
      "Epoch: 701, loss = 9.976\n",
      "Epoch: 801, loss = 11.313\n",
      "Epoch: 901, loss = 13.439\n",
      "Epoch: 1001, loss = 12.500\n",
      "Epoch: 1101, loss = 12.883\n",
      "Epoch: 1201, loss = 10.199\n",
      "Epoch: 1301, loss = 12.534\n",
      "Epoch: 1401, loss = 9.245\n",
      "Epoch: 1501, loss = 11.180\n",
      "Epoch: 1601, loss = 8.778\n",
      "Epoch: 1701, loss = 9.437\n",
      "Epoch: 1801, loss = 11.259\n",
      "Epoch: 1901, loss = 8.583\n",
      "Epoch: 2001, loss = 10.749\n",
      "Epoch: 2101, loss = 8.993\n",
      "Epoch: 2201, loss = 11.747\n",
      "Epoch: 2301, loss = 9.941\n",
      "Epoch: 2401, loss = 7.674\n",
      "Epoch: 2501, loss = 9.360\n",
      "Epoch: 2601, loss = 10.564\n",
      "Epoch: 2701, loss = 9.339\n",
      "Epoch: 2801, loss = 7.452\n",
      "Epoch: 2901, loss = 7.880\n",
      "Epoch: 3001, loss = 6.248\n",
      "Epoch: 3101, loss = 9.246\n",
      "Epoch: 3201, loss = 7.399\n",
      "Epoch: 3301, loss = 6.913\n",
      "Epoch: 3401, loss = 9.488\n",
      "Epoch: 3501, loss = 7.642\n",
      "Epoch: 3601, loss = 7.761\n",
      "Epoch: 3701, loss = 6.394\n",
      "Epoch: 3801, loss = 9.818\n",
      "Epoch: 3901, loss = 5.107\n",
      "Epoch: 4001, loss = 9.125\n",
      "Epoch: 4101, loss = 6.610\n",
      "Epoch: 4201, loss = 8.009\n",
      "Epoch: 4301, loss = 7.771\n",
      "Epoch: 4401, loss = 7.146\n",
      "Epoch: 4501, loss = 6.841\n",
      "Epoch: 4601, loss = 5.430\n",
      "Epoch: 4701, loss = 7.499\n",
      "Epoch: 4801, loss = 9.763\n",
      "Epoch: 4901, loss = 5.742\n"
     ]
    }
   ],
   "source": [
    "losses = []\n",
    "epochs = 5000\n",
    "\n",
    "batch_size = 64\n",
    "\n",
    "steps_per_epoch = X_.shape[0] // batch_size\n",
    "\n",
    "\n",
    "for i in range(epochs):\n",
    "    loss = 0\n",
    "    \n",
    "    for batch in range(steps_per_epoch):\n",
    "        X_batch, y_batch = resample(X_, y_, n_samples = batch_size)\n",
    "        X.value = X_batch\n",
    "        y.value = y_batch\n",
    "        \n",
    "        training_one_batch(graph)\n",
    "        \n",
    "        learning_rate = 1e-3\n",
    "        \n",
    "        sgd_update(trainable_nodes=[W1, W2, b1, b2], learning_rate = learning_rate)\n",
    "        \n",
    "        loss += graph[-1].value\n",
    "        \n",
    "    if i % 100 == 0:\n",
    "        print('Epoch: {}, loss = {:.3f}'.format(i+1, loss/steps_per_epoch))\n",
    "        losses.append(loss)        "
   ]
  },
  {
   "cell_type": "code",
   "execution_count": 218,
   "metadata": {},
   "outputs": [],
   "source": [
    "import matplotlib.pyplot as plt"
   ]
  },
  {
   "cell_type": "code",
   "execution_count": 219,
   "metadata": {},
   "outputs": [
    {
     "data": {
      "text/plain": [
       "[<matplotlib.lines.Line2D at 0x1a20423160>]"
      ]
     },
     "execution_count": 219,
     "metadata": {},
     "output_type": "execute_result"
    },
    {
     "data": {
      "image/png": "[encoded data removed]",
      "text/plain": [
       "<Figure size 432x288 with 1 Axes>"
      ]
     },
     "metadata": {
      "needs_background": "light"
     },
     "output_type": "display_data"
    }
   ],
   "source": [
    "plt.plot(losses)"
   ]
  },
  {
   "cell_type": "code",
   "execution_count": 220,
   "metadata": {},
   "outputs": [
    {
     "data": {
      "text/plain": [
       "array([[ 0.24566944,  0.06588901, -2.09861364, -0.20170475,  0.08473787,\n",
       "        -0.07584555, -1.3144071 ,  0.55269107, -1.88116877,  0.40043592],\n",
       "       [-0.40582129,  0.47978895, -0.48739602,  0.66029005, -0.1683364 ,\n",
       "         0.99473484, -1.6102824 , -0.00956492, -0.65795686,  2.11299043],\n",
       "       [ 0.27520294, -1.08269976,  0.36072561, -0.48729598,  0.25210396,\n",
       "        -1.2963591 ,  1.12041483,  1.28363158, -0.88001027,  1.46299218],\n",
       "       [ 1.05292054,  0.29055881,  2.225596  ,  0.18345418, -0.89744813,\n",
       "        -0.19448887, -0.43251751, -0.14451473,  2.11112405, -0.33613171],\n",
       "       [-0.49056689, -1.65004363,  0.30665326,  0.51480934,  0.8119536 ,\n",
       "        -1.06684996, -1.96485892, -0.23890294,  1.22306029,  1.6872514 ],\n",
       "       [ 2.45421751, -1.52637465, -0.9462694 ,  1.1076324 ,  1.96355309,\n",
       "        -0.7712349 ,  0.83113279,  3.33074482,  1.01780987,  1.84975766],\n",
       "       [ 0.52469627, -0.53803371,  0.26607645, -0.93839163, -0.06075629,\n",
       "         1.7213122 , -1.73764191, -0.04100714, -2.99248512, -1.53593674],\n",
       "       [ 0.75176104, -2.11805177, -3.0953173 , -1.92568974,  1.00426389,\n",
       "        -1.41635586, -1.02485374,  1.16202164,  1.24044397, -1.12987121],\n",
       "       [ 0.87060483, -1.11260753,  0.74772087,  0.95089332, -2.14152548,\n",
       "         2.01992868,  2.23325821,  1.17421427,  0.64321631,  0.6347456 ],\n",
       "       [-1.96780919, -0.35948898, -0.49723149,  1.94425884, -1.86803712,\n",
       "        -0.6867036 ,  0.59043173,  0.92188583, -0.30684994,  1.84513079],\n",
       "       [-0.00807068, -1.29611995, -1.53186834, -0.55925458,  0.29738026,\n",
       "        -1.37152215, -0.04021491,  0.85214191,  1.3563682 ,  1.16149091],\n",
       "       [-0.25177144,  1.06492725,  0.87399215,  0.3699635 ,  0.28168345,\n",
       "        -0.30187658, -0.08934114, -2.13119664,  1.41055757, -1.42943343],\n",
       "       [-0.39540002, -3.10825343,  1.1021075 , -3.63445218,  1.51197121,\n",
       "        -1.62018281, -1.86862566, -0.59045868,  1.41291354,  0.89947948]])"
      ]
     },
     "execution_count": 220,
     "metadata": {},
     "output_type": "execute_result"
    }
   ],
   "source": [
    "W1.value"
   ]
  },
  {
   "cell_type": "code",
   "execution_count": 221,
   "metadata": {},
   "outputs": [
    {
     "data": {
      "text/plain": [
       "array([[ 7.78456099],\n",
       "       [ 7.9787582 ],\n",
       "       [ 3.26695365],\n",
       "       [10.11030089],\n",
       "       [ 6.16677033],\n",
       "       [ 7.59225567],\n",
       "       [ 5.48365675],\n",
       "       [ 1.87385363],\n",
       "       [ 2.66217874],\n",
       "       [ 3.08737487]])"
      ]
     },
     "execution_count": 221,
     "metadata": {},
     "output_type": "execute_result"
    }
   ],
   "source": [
    "W2.value"
   ]
  },
  {
   "cell_type": "code",
   "execution_count": 226,
   "metadata": {},
   "outputs": [
    {
     "data": {
      "text/plain": [
       "array([-0.41733926, -0.48772236, -0.59338101, -0.27259857, -0.74026221,\n",
       "        0.19427445,  0.36716642,  0.55715988, -0.8678825 , -0.98732948,\n",
       "       -0.30309415,  0.44105193, -0.49243937])"
      ]
     },
     "execution_count": 226,
     "metadata": {},
     "output_type": "execute_result"
    }
   ],
   "source": [
    "X_[1]"
   ]
  },
  {
   "cell_type": "code",
   "execution_count": 227,
   "metadata": {},
   "outputs": [],
   "source": [
    "x1 = Input()"
   ]
  },
  {
   "cell_type": "code",
   "execution_count": 228,
   "metadata": {},
   "outputs": [],
   "source": [
    "x1.value = X_[1]"
   ]
  },
  {
   "cell_type": "code",
   "execution_count": 229,
   "metadata": {},
   "outputs": [],
   "source": [
    "y_of_x1 =  Linear(Sigmoid(Linear(x1, W1, b1)), W2, b2)"
   ]
  },
  {
   "cell_type": "code",
   "execution_count": 232,
   "metadata": {},
   "outputs": [
    {
     "name": "stdout",
     "output_type": "stream",
     "text": [
      "<__main__.Linear object at 0x1a20494a90>\n"
     ]
    }
   ],
   "source": [
    "y_of_x1"
   ]
  },
  {
   "cell_type": "code",
   "execution_count": 231,
   "metadata": {},
   "outputs": [
    {
     "data": {
      "text/plain": [
       "(13, 10)"
      ]
     },
     "execution_count": 231,
     "metadata": {},
     "output_type": "execute_result"
    }
   ],
   "source": [
    "W1.value.shape"
   ]
  },
  {
   "cell_type": "code",
   "execution_count": 233,
   "metadata": {},
   "outputs": [],
   "source": [
    "def _sigmoid(x):\n",
    "        return 1. / (1 + np.exp(-1 * x))"
   ]
  },
  {
   "cell_type": "code",
   "execution_count": 234,
   "metadata": {},
   "outputs": [
    {
     "data": {
      "text/plain": [
       "array([21.80955614])"
      ]
     },
     "execution_count": 234,
     "metadata": {},
     "output_type": "execute_result"
    }
   ],
   "source": [
    "np.dot(_sigmoid(np.dot(X_[1], W1.value) + b1.value), W2.value) + b2.value"
   ]
  },
  {
   "cell_type": "code",
   "execution_count": 235,
   "metadata": {},
   "outputs": [
    {
     "data": {
      "text/plain": [
       "21.6"
      ]
     },
     "execution_count": 235,
     "metadata": {},
     "output_type": "execute_result"
    }
   ],
   "source": [
    "y_[1]"
   ]
  },
  {
   "cell_type": "code",
   "execution_count": 236,
   "metadata": {},
   "outputs": [
    {
     "data": {
      "text/plain": [
       "<__main__.Linear at 0x1a20494a90>"
      ]
     },
     "execution_count": 236,
     "metadata": {},
     "output_type": "execute_result"
    }
   ],
   "source": [
    "y_of_x1"
   ]
  },
  {
   "cell_type": "code",
   "execution_count": null,
   "metadata": {},
   "outputs": [],
   "source": []
  }
 ],
 "metadata": {
  "kernelspec": {
   "display_name": "Python 3",
   "language": "python",
   "name": "python3"
  },
  "language_info": {
   "codemirror_mode": {
    "name": "ipython",
    "version": 3
   },
   "file_extension": ".py",
   "mimetype": "text/x-python",
   "name": "python",
   "nbconvert_exporter": "python",
   "pygments_lexer": "ipython3",
   "version": "3.7.1"
  }
 },
 "nbformat": 4,
 "nbformat_minor": 2
}
