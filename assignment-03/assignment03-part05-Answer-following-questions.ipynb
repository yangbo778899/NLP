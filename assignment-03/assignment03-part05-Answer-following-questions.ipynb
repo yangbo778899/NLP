{
 "cells": [
  {
   "cell_type": "markdown",
   "metadata": {},
   "source": [
    "####  1、Why do we need dynamic programming? What's the difference of dynamic programming and previous talked search problme?\n",
    "\n",
    "\n",
    "ans: \n",
    " - 动态规划将复杂问题分解成可以重复解决的子问题。\n",
    " - 对子问题的求解结果进行存储\n",
    " - 通过分解查表来依次求解，提升计算性能\n",
    " \n",
    " 动态规划和搜索问题的主要差异有：\n",
    " - 解决过程中都会用到查表，动态规划查询的是子问题的结果表，查询问题是检索路由表"
   ]
  },
  {
   "cell_type": "markdown",
   "metadata": {},
   "source": [
    "#### 2、Why do we still need dynamic programming? Why not we train a machine learning to fit a function which could get the right answer based on inputs?\n",
    "\n",
    "ans:\n",
    " \n",
    "- 对于能够分解成重复子问题的问题来讲，通过动态规划可以简单直接的对问题求解。通过对子问题求解的缓存，能够较好的解决求解效率。\n",
    "- 机器学习的长处是寻找隐含的相关规律，属于相对较重的解决办法，对能直接进行求解的问题，反而不太合适。"
   ]
  },
  {
   "cell_type": "markdown",
   "metadata": {},
   "source": [
    "#### 3、Can you catch up at least 3 problems which could solved by Dynamic Programming?\n",
    "\n",
    "ans:\n",
    "\n",
    "- 路线规划（外卖送餐、加油车问题）\n",
    "- 编辑距离"
   ]
  },
  {
   "cell_type": "markdown",
   "metadata": {},
   "source": [
    "#### 4、Can you catch up at least 3 problems wich could sloved by Edit Distance?"
   ]
  },
  {
   "cell_type": "markdown",
   "metadata": {},
   "source": [
    "#### 5、Please summarize the three main features of Dynamic Programming, and make a concise explain for each feature.\n",
    "\n",
    "ans:\n",
    "\n",
    "- 分解子问题\n",
    "- 构造子问题的求解表\n",
    "- 解析求解"
   ]
  },
  {
   "cell_type": "markdown",
   "metadata": {},
   "source": [
    "#### 6、What's the disadvantages of Dynamic Programming? (You may need search by yourself in Internet)\n",
    "\n",
    "ans:\n",
    "\n",
    "- 对求解问题是深度存在一定的局限性，如果问题较为复杂的话，构造子问题求解表或者是通过递归调用，对时间和空间的占用都较多。"
   ]
  },
  {
   "cell_type": "code",
   "execution_count": null,
   "metadata": {},
   "outputs": [],
   "source": []
  }
 ],
 "metadata": {
  "kernelspec": {
   "display_name": "Python 3",
   "language": "python",
   "name": "python3"
  },
  "language_info": {
   "codemirror_mode": {
    "name": "ipython",
    "version": 3
   },
   "file_extension": ".py",
   "mimetype": "text/x-python",
   "name": "python",
   "nbconvert_exporter": "python",
   "pygments_lexer": "ipython3",
   "version": "3.7.1"
  }
 },
 "nbformat": 4,
 "nbformat_minor": 2
}
