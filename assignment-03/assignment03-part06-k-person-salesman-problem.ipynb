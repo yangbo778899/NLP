{
 "cells": [
  {
   "cell_type": "code",
   "execution_count": 976,
   "metadata": {},
   "outputs": [],
   "source": [
    "import random\n",
    "import matplotlib.pylab as plt"
   ]
  },
  {
   "cell_type": "code",
   "execution_count": 977,
   "metadata": {},
   "outputs": [],
   "source": [
    "rgb = []\n",
    "latitudes = [random.randint(-100, 100) for _ in range(10)]        # 后面第二种的递归算法较慢，因此只初始化了10个点\n",
    "longitude = [random.randint(-100, 100) for _ in range(10)]\n",
    "x_start = latitudes[0]\n",
    "y_start = longitude[0]\n",
    "point_start = (x_start, y_start)\n",
    "# latitudes.insert(0,x_start)\n",
    "# longitude.insert(0,y_start)"
   ]
  },
  {
   "cell_type": "code",
   "execution_count": 978,
   "metadata": {},
   "outputs": [
    {
     "data": {
      "text/plain": [
       "<matplotlib.collections.PathCollection at 0x121d46630>"
      ]
     },
     "execution_count": 978,
     "metadata": {},
     "output_type": "execute_result"
    },
    {
     "data": {
      "image/png": "[encoded data removed]",
      "text/plain": [
       "<Figure size 432x288 with 1 Axes>"
      ]
     },
     "metadata": {
      "needs_background": "light"
     },
     "output_type": "display_data"
    }
   ],
   "source": [
    "plt.scatter(latitudes, longitude)\n",
    "plt.scatter(point_start[0], point_start[1] , c='r')"
   ]
  },
  {
   "cell_type": "markdown",
   "metadata": {},
   "source": [
    "### 解法一、 利用贪心算法计算距离当前点的最近距离"
   ]
  },
  {
   "cell_type": "code",
   "execution_count": 979,
   "metadata": {},
   "outputs": [],
   "source": [
    "import numpy as np\n",
    "def euclidean_distance(a , b):\n",
    "    vec1 = np.array(a)\n",
    "    vec2 = np.array(b)\n",
    "    distance= np.sqrt(np.sum(np.square(vec1-vec2)))\n",
    "    return distance"
   ]
  },
  {
   "cell_type": "code",
   "execution_count": 980,
   "metadata": {},
   "outputs": [],
   "source": [
    "from collections import defaultdict\n",
    "import numpy as np\n",
    "INF = 1e7\n",
    "point_distance_memo = np.zeros((21, 21))\n",
    "point_distance_all = defaultdict(list)\n",
    "seened = set()\n",
    "length_x = len(latitudes)\n",
    "length_y = len(longitude)\n",
    "for x , y in zip (range(length_x) , range(length_y)):\n",
    "    point_x = (latitudes[x] , longitude[y])\n",
    "    for x1 , y1 in zip (range(length_x) , range(length_y)):\n",
    "        point_x1 = (latitudes[x1] , longitude[y1])\n",
    "        if point_x  == point_x1 : \n",
    "            point_distance_memo[x][x1] = INF\n",
    "            point_distance_memo[x1][x] = INF\n",
    "        if point_x1 in seened : continue\n",
    "        if point_distance_memo[x][x1] > 0:\n",
    "            distance = point_distance_memo[x][x1]\n",
    "        else:\n",
    "            distance = euclidean_distance(point_x , point_x1)\n",
    "            point_distance_memo[x][x1] = distance\n",
    "            point_distance_memo[x1][x] = distance                \n",
    "                    \n",
    "        point_distance_all[point_x].append(([point_x1, distance]))"
   ]
  },
  {
   "cell_type": "code",
   "execution_count": 981,
   "metadata": {},
   "outputs": [],
   "source": [
    "from collections import defaultdict\n",
    "short_distance = 4000\n",
    "short_point = ()\n",
    "point_distance_all = defaultdict(list)\n",
    "point_distance_memo = defaultdict(int)\n",
    "seened = set()\n",
    "result = []\n",
    "from collections import defaultdict\n",
    "for x , y in zip(latitudes , longitude):\n",
    "    point_x = (x,y)    \n",
    "    for x1 , y1 in zip(latitudes , longitude):\n",
    "        point_x1 = (x1, y1)\n",
    "        if point_x  == point_x1 : continue\n",
    "        if point_x1 in seened : continue\n",
    "\n",
    "        if ((point_x, point_x1)) in point_distance_memo:\n",
    "            distance = point_distance_memo[(point_x, point_x1)]\n",
    "        else:\n",
    "            distance = euclidean_distance(point_x , point_x1)\n",
    "            point_distance_memo[(point_x, point_x1)] = distance\n",
    "            point_distance_memo[(point_x1, point_x)] = distance                \n",
    "        \n",
    "        point_distance_all[point_x].append(([point_x1, distance]))"
   ]
  },
  {
   "cell_type": "code",
   "execution_count": 982,
   "metadata": {},
   "outputs": [
    {
     "data": {
      "text/plain": [
       "[(-55, -79),\n",
       " (-99, -36),\n",
       " (-78, -7),\n",
       " (21, 46),\n",
       " (56, 85),\n",
       " (77, 70),\n",
       " (-5, 95),\n",
       " (69, -48),\n",
       " (58, -55),\n",
       " (91, -97)]"
      ]
     },
     "execution_count": 982,
     "metadata": {},
     "output_type": "execute_result"
    }
   ],
   "source": [
    "# 可以开始查表了，所有点的距离全都有啦\n",
    "successor = []\n",
    "successor.append(point_start)\n",
    "next_point = point_start\n",
    "seened = set()\n",
    "seened.add(point_start)\n",
    "while len(successor) < len(latitudes):\n",
    "    point_list = []\n",
    "    for point , distance in point_distance_all[point_start]:\n",
    "        if point in seened: continue\n",
    "        point_list.append(([point, distance]))\n",
    "    next_point, distance = min(point_list, key= lambda x : x[1])\n",
    "    successor.append(next_point)\n",
    "    point_start = next_point\n",
    "    seened.add(next_point)    \n",
    "successor"
   ]
  },
  {
   "cell_type": "code",
   "execution_count": 983,
   "metadata": {},
   "outputs": [
    {
     "data": {
      "text/plain": [
       "[<matplotlib.lines.Line2D at 0x121575f28>]"
      ]
     },
     "execution_count": 983,
     "metadata": {},
     "output_type": "execute_result"
    },
    {
     "data": {
      "image/png": "[encoded data removed]",
      "text/plain": [
       "<Figure size 432x288 with 1 Axes>"
      ]
     },
     "metadata": {
      "needs_background": "light"
     },
     "output_type": "display_data"
    }
   ],
   "source": [
    "import time\n",
    "plt.scatter(latitudes, longitude)\n",
    "index = len(successor)\n",
    "x0, y0 = successor[0]\n",
    "xn, yn = successor[-1]\n",
    "\n",
    "plt.scatter(x0, y0 ,color='g' ,marker = 'x', s = 200)\n",
    "for i in range(index-1):\n",
    "    x1, y1 = successor[i]\n",
    "    x2, y2 = successor[i + 1]\n",
    "    plt.plot([x1,x2], [y1, y2], color='b')\n",
    "plt.plot([x0,xn], [y0, yn], color='b')"
   ]
  },
  {
   "cell_type": "markdown",
   "metadata": {},
   "source": [
    "### 解法二、利用递归计算后继节点的最优,速度上没有优势"
   ]
  },
  {
   "cell_type": "code",
   "execution_count": 984,
   "metadata": {},
   "outputs": [],
   "source": [
    "class Solution:\n",
    "    def __init__(self, X, start_node):\n",
    "        self.X = X  # 距离矩阵\n",
    "        self.start_node = start_node  # 开始的节点\n",
    "        self.array = [[0] * (2 ** (len(self.X) - 1)) for i in range(len(self.X))]  # 记录处于x节点，未经历M个节点时，矩阵储存x的下一步是M中哪个节点\n",
    "\n",
    "    def transfer(self, sets):\n",
    "        su = 0\n",
    "        for s in sets:\n",
    "            su = su + 2 ** (s - 1)  # 二进制转换\n",
    "        return su\n",
    "\n",
    "    # tsp总接口\n",
    "    def tsp(self):\n",
    "        s = self.start_node\n",
    "        num = len(self.X)\n",
    "        cities = list(range(num))  # 形成节点的集合\n",
    "        # past_sets = [s] #已遍历节点集合\n",
    "        cities.pop(cities.index(s))  # 构建未经历节点的集合\n",
    "        node = s  # 初始节点\n",
    "        return self.solve(node, cities)  # 求解函数\n",
    "\n",
    "    def solve(self, node, future_sets):\n",
    "        # 迭代终止条件，表示没有了未遍历节点，直接连接当前节点和起点即可\n",
    "        if len(future_sets) == 0:\n",
    "            return self.X[node][self.start_node]\n",
    "        d = 99999\n",
    "        # node如果经过future_sets中节点，最后回到原点的距离\n",
    "        distance = []\n",
    "        # 遍历未经历的节点\n",
    "        for i in range(len(future_sets)):\n",
    "            s_i = future_sets[i]\n",
    "            copy = future_sets[:]\n",
    "            copy.pop(i)  # 删除第i个节点，认为已经完成对其的访问\n",
    "            distance.append(self.X[node][s_i] + self.solve(s_i, copy))\n",
    "        # 动态规划递推方程，利用递归\n",
    "        d = min(distance)\n",
    "        # node需要连接的下一个节点\n",
    "        next_one = future_sets[distance.index(d)]\n",
    "        # 未遍历节点集合\n",
    "        c = self.transfer(future_sets)\n",
    "        # 回溯矩阵，（当前节点，未遍历节点集合）——>下一个节点\n",
    "        self.array[node][c] = next_one\n",
    "        return d"
   ]
  },
  {
   "cell_type": "code",
   "execution_count": 985,
   "metadata": {},
   "outputs": [
    {
     "name": "stdout",
     "output_type": "stream",
     "text": [
      "684.541730364674\n",
      "程序的运行时间是：5.167299999999159\n"
     ]
    }
   ],
   "source": [
    "import random\n",
    "import numpy as np\n",
    "import math\n",
    "\n",
    "# latitudes = [random.randint(-100, 100) for _ in range(10)]\n",
    "# longitude = [random.randint(-100, 100) for _ in range(10)]\n",
    "\n",
    "v = []\n",
    "for i , j in zip(latitudes , longitude):\n",
    "    v.append([i,j])\n",
    "\n",
    "train_v= np.array(v)\n",
    "train_d=train_v\n",
    "dist = np.zeros((train_v.shape[0],train_d.shape[0]))\n",
    "\n",
    "for i in range(train_v.shape[0]):\n",
    "    for j in range(train_d.shape[0]):\n",
    "        dist[i,j] = math.sqrt(np.sum((train_v[i,:]-train_d[j,:])**2))\n",
    "        if i == j: dist[i,j] = -1\n",
    "\n",
    "start = time.process_time()\n",
    "S = Solution(dist, 0)\n",
    "print(S.tsp())\n",
    "end = time.process_time()\n",
    "print(\"程序的运行时间是：%s\" % (end - start))\n",
    "\n"
   ]
  },
  {
   "cell_type": "code",
   "execution_count": 986,
   "metadata": {},
   "outputs": [
    {
     "name": "stdout",
     "output_type": "stream",
     "text": [
      "0 ---> 6\n",
      "6 ---> 2\n",
      "2 ---> 5\n",
      "5 ---> 4\n",
      "4 ---> 1\n",
      "1 ---> 9\n",
      "9 ---> 8\n",
      "8 ---> 3\n",
      "3 ---> 7\n",
      "7 ---> 0\n"
     ]
    }
   ],
   "source": [
    "# 开始回溯\n",
    "M = S.array\n",
    "lists = list(range(len(S.X)))\n",
    "start = S.start_node\n",
    "successor = []\n",
    "successor.append((latitudes[start], longitude[start]))\n",
    "while len(lists) > 0:        \n",
    "    lists.pop(lists.index(start))\n",
    "    m = S.transfer(lists)\n",
    "    next_node = S.array[start][m]\n",
    "    successor.append((latitudes[next_node], longitude[next_node]))\n",
    "    print(start, \"--->\", next_node)\n",
    "    start = next_node"
   ]
  },
  {
   "cell_type": "code",
   "execution_count": 987,
   "metadata": {},
   "outputs": [
    {
     "data": {
      "text/plain": [
       "[<matplotlib.lines.Line2D at 0x1211410b8>]"
      ]
     },
     "execution_count": 987,
     "metadata": {},
     "output_type": "execute_result"
    },
    {
     "data": {
      "image/png": "[encoded data removed]",
      "text/plain": [
       "<Figure size 432x288 with 1 Axes>"
      ]
     },
     "metadata": {
      "needs_background": "light"
     },
     "output_type": "display_data"
    }
   ],
   "source": [
    "plt.scatter(latitudes, longitude)\n",
    "index = len(successor)\n",
    "x0, y0 = successor[0]\n",
    "xn, yn = successor[-1]\n",
    "\n",
    "plt.scatter(x0, y0 ,color='g' ,marker = 'x', s = 200)\n",
    "for i in range(index-1):\n",
    "    x1, y1 = successor[i]\n",
    "    x2, y2 = successor[i + 1]\n",
    "    plt.plot([x1,x2], [y1, y2], color='b')\n",
    "plt.plot([x0,xn], [y0, yn], color='b')\n"
   ]
  },
  {
   "cell_type": "markdown",
   "metadata": {},
   "source": [
    "### 解法三、计算DP表，N+1步的结果可以通过N步来求解，效率上高了很多"
   ]
  },
  {
   "cell_type": "code",
   "execution_count": 988,
   "metadata": {},
   "outputs": [],
   "source": [
    "v = []\n",
    "for x , y in zip(latitudes, longitude):\n",
    "    v.append([x, y])\n",
    "\n",
    "train_v = np.array(v)\n",
    "train_d = train_v\n",
    "dist = np.zeros((train_v.shape[0], train_d.shape[0]))"
   ]
  },
  {
   "cell_type": "code",
   "execution_count": 989,
   "metadata": {},
   "outputs": [],
   "source": [
    "# 计算距离矩阵\n",
    "for i in range(train_v.shape[0]):\n",
    "    for j in range(train_d.shape[0]):\n",
    "        dist[i, j] = math.sqrt(np.sum((train_v[i, :] - train_d[j, :]) ** 2))"
   ]
  },
  {
   "cell_type": "code",
   "execution_count": 990,
   "metadata": {},
   "outputs": [],
   "source": [
    "N = train_v.shape[0]\n",
    "path = np.ones((2 ** (N + 1), N))\n",
    "dp = np.ones((2 ** (train_v.shape[0] + 1), train_d.shape[0])) * -1\n",
    "\n",
    "\n",
    "def TSP(s, init, num):\n",
    "    if dp[s][init] != -1:\n",
    "        return dp[s][init]\n",
    "    if s == (1 << (N)):\n",
    "        return dist[0][init]\n",
    "    sumpath = 1000000000\n",
    "    for i in range(N):\n",
    "        if s & (1 << i):\n",
    "            m = TSP(s & (~(1 << i)), i, num + 1) + dist[i][init]\n",
    "            if m < sumpath:\n",
    "                sumpath = m\n",
    "                path[s][init] = i\n",
    "    dp[s][init] = sumpath\n",
    "    return dp[s][init]"
   ]
  },
  {
   "cell_type": "code",
   "execution_count": 991,
   "metadata": {},
   "outputs": [
    {
     "name": "stdout",
     "output_type": "stream",
     "text": [
      "684.541730364674\n",
      "程序的运行时间是：0.053624000000127126\n"
     ]
    },
    {
     "data": {
      "text/plain": [
       "[[-99, -36],\n",
       " [-78, -7],\n",
       " [21, 46],\n",
       " [-5, 95],\n",
       " [56, 85],\n",
       " [77, 70],\n",
       " [69, -48],\n",
       " [58, -55],\n",
       " [91, -97]]"
      ]
     },
     "execution_count": 991,
     "metadata": {},
     "output_type": "execute_result"
    }
   ],
   "source": [
    "init_point = 0\n",
    "s = 0\n",
    "for i in range(1, N + 1):\n",
    "    s = s | (1 << i)\n",
    "start = time.process_time()\n",
    "distance = TSP(s, init_point, 0)\n",
    "end = time.process_time()\n",
    "s = 0b11111111110\n",
    "init = 0\n",
    "num = 0\n",
    "print(distance)\n",
    "successor = []\n",
    "while True:\n",
    "#     print(int(path[s][init]))\n",
    "    init = int(path[s][init])\n",
    "    successor.append([latitudes[init], longitude[init]])\n",
    "    s = s & (~(1 << init))\n",
    "    num += 1\n",
    "    if num >= N -1 :\n",
    "        break\n",
    "print(\"程序的运行时间是：%s\" % (end - start))\n",
    "successor"
   ]
  },
  {
   "cell_type": "code",
   "execution_count": 992,
   "metadata": {},
   "outputs": [
    {
     "data": {
      "image/png": "[encoded data removed]",
      "text/plain": [
       "<Figure size 432x288 with 1 Axes>"
      ]
     },
     "metadata": {
      "needs_background": "light"
     },
     "output_type": "display_data"
    }
   ],
   "source": [
    "plt.scatter(latitudes, longitude)\n",
    "\n",
    "x0, y0 = latitudes[0], longitude[0]\n",
    "xn, yn = successor[-1]\n",
    "successor.insert(0, [x0, y0])\n",
    "index = len(successor)\n",
    "plt.scatter(x0, y0, color='g', marker='x', s=200)\n",
    "for i in range(index - 1):\n",
    "    x1, y1 = successor[i]\n",
    "    x2, y2 = successor[i + 1]\n",
    "    plt.plot([x1, x2], [y1, y2], color='b')\n",
    "plt.plot([x0, xn], [y0, yn], color='b')\n",
    "plt.show()"
   ]
  },
  {
   "cell_type": "code",
   "execution_count": null,
   "metadata": {},
   "outputs": [],
   "source": []
  }
 ],
 "metadata": {
  "kernelspec": {
   "display_name": "Python 3",
   "language": "python",
   "name": "python3"
  },
  "language_info": {
   "codemirror_mode": {
    "name": "ipython",
    "version": 3
   },
   "file_extension": ".py",
   "mimetype": "text/x-python",
   "name": "python",
   "nbconvert_exporter": "python",
   "pygments_lexer": "ipython3",
   "version": "3.7.1"
  }
 },
 "nbformat": 4,
 "nbformat_minor": 2
}
