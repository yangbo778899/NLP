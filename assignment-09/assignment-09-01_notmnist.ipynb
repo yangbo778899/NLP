{
 "cells": [
  {
   "cell_type": "code",
   "execution_count": 25,
   "metadata": {},
   "outputs": [],
   "source": [
    "# These are all the modules we'll be using later. Make sure you can import them\n",
    "# before proceeding further.\n",
    "from __future__ import print_function\n",
    "import imageio\n",
    "import matplotlib.pyplot as plt\n",
    "import numpy as np\n",
    "import os\n",
    "import sys\n",
    "import tarfile\n",
    "from IPython.display import display, Image\n",
    "from sklearn.linear_model import LogisticRegression\n",
    "from six.moves.urllib.request import urlretrieve\n",
    "from six.moves import cPickle as pickle\n",
    "\n",
    "# Config the matplotlib backend as plotting inline in IPython\n",
    "%matplotlib inline"
   ]
  },
  {
   "cell_type": "code",
   "execution_count": 26,
   "metadata": {},
   "outputs": [],
   "source": [
    "MACHINE_LOCAL = False"
   ]
  },
  {
   "cell_type": "code",
   "execution_count": 27,
   "metadata": {},
   "outputs": [],
   "source": [
    "url = 'https://commondatastorage.googleapis.com/books1000/'\n",
    "last_percent_reported = None\n",
    "if MACHINE_LOCAL:\n",
    "    data_root = '/Users/yangbo/working/机器学习/深度学习/作业/NLP/NLP/assignment-09/res/' # Change me to store data elsewhere\n",
    "else:\n",
    "    data_root = '/data/zz/nlp/l9/res/'"
   ]
  },
  {
   "cell_type": "code",
   "execution_count": 28,
   "metadata": {},
   "outputs": [
    {
     "name": "stdout",
     "output_type": "stream",
     "text": [
      "Found and verified /data/zz/nlp/l9/res/notMNIST_large.tar.gz\n",
      "Found and verified /data/zz/nlp/l9/res/notMNIST_small.tar.gz\n"
     ]
    }
   ],
   "source": [
    "\n",
    "def download_progress_hook(count, blockSize, totalSize):\n",
    "  \"\"\"A hook to report the progress of a download. This is mostly intended for users with\n",
    "  slow internet connections. Reports every 5% change in download progress.\n",
    "  \"\"\"\n",
    "  global last_percent_reported\n",
    "  percent = int(count * blockSize * 100 / totalSize)\n",
    "\n",
    "  if last_percent_reported != percent:\n",
    "    if percent % 5 == 0:\n",
    "      sys.stdout.write(\"%s%%\" % percent)\n",
    "      sys.stdout.flush()\n",
    "    else:\n",
    "      sys.stdout.write(\".\")\n",
    "      sys.stdout.flush()\n",
    "      \n",
    "    last_percent_reported = percent\n",
    "        \n",
    "def maybe_download(filename, expected_bytes, force=False):\n",
    "  \"\"\"Download a file if not present, and make sure it's the right size.\"\"\"\n",
    "  dest_filename = os.path.join(data_root, filename)\n",
    "  if force or not os.path.exists(dest_filename):\n",
    "    print('Attempting to download:', filename) \n",
    "    filename, _ = urlretrieve(url + filename, dest_filename, reporthook=download_progress_hook)\n",
    "    print('\\nDownload Complete!')\n",
    "  statinfo = os.stat(dest_filename)\n",
    "  if statinfo.st_size == expected_bytes:\n",
    "    print('Found and verified', dest_filename)\n",
    "  else:\n",
    "    raise Exception(\n",
    "      'Failed to verify ' + dest_filename + '. Can you get to it with a browser?')\n",
    "  return dest_filename\n",
    "\n",
    "train_filename = maybe_download('notMNIST_large.tar.gz', 247336696)\n",
    "test_filename = maybe_download('notMNIST_small.tar.gz', 8458043)"
   ]
  },
  {
   "cell_type": "code",
   "execution_count": 29,
   "metadata": {},
   "outputs": [],
   "source": [
    "\n",
    "train_filename = data_root +'notMNIST_large.tar.gz'\n",
    "test_filename = data_root + 'notMNIST_small.tar.gz'\n"
   ]
  },
  {
   "cell_type": "code",
   "execution_count": 30,
   "metadata": {
    "scrolled": true
   },
   "outputs": [
    {
     "name": "stdout",
     "output_type": "stream",
     "text": [
      "Extracting data for /data/zz/nlp/l9/res/notMNIST_large. This may take a while. Please wait.\n",
      "['/data/zz/nlp/l9/res/notMNIST_large/A', '/data/zz/nlp/l9/res/notMNIST_large/B', '/data/zz/nlp/l9/res/notMNIST_large/C', '/data/zz/nlp/l9/res/notMNIST_large/D', '/data/zz/nlp/l9/res/notMNIST_large/E', '/data/zz/nlp/l9/res/notMNIST_large/F', '/data/zz/nlp/l9/res/notMNIST_large/G', '/data/zz/nlp/l9/res/notMNIST_large/H', '/data/zz/nlp/l9/res/notMNIST_large/I', '/data/zz/nlp/l9/res/notMNIST_large/J']\n",
      "Extracting data for /data/zz/nlp/l9/res/notMNIST_small. This may take a while. Please wait.\n",
      "['/data/zz/nlp/l9/res/notMNIST_small/A', '/data/zz/nlp/l9/res/notMNIST_small/B', '/data/zz/nlp/l9/res/notMNIST_small/C', '/data/zz/nlp/l9/res/notMNIST_small/D', '/data/zz/nlp/l9/res/notMNIST_small/E', '/data/zz/nlp/l9/res/notMNIST_small/F', '/data/zz/nlp/l9/res/notMNIST_small/G', '/data/zz/nlp/l9/res/notMNIST_small/H', '/data/zz/nlp/l9/res/notMNIST_small/I', '/data/zz/nlp/l9/res/notMNIST_small/J']\n"
     ]
    }
   ],
   "source": [
    "num_classes = 10\n",
    "np.random.seed(133)\n",
    "\n",
    "def maybe_extract(filename, force=False):\n",
    "  root = os.path.splitext(os.path.splitext(filename)[0])[0]  # remove .tar.gz\n",
    "  if os.path.isdir(root) and not force:\n",
    "    # You may override by setting force=True.\n",
    "    print('%s already present - Skipping extraction of %s.' % (root, filename))\n",
    "  else:\n",
    "    print('Extracting data for %s. This may take a while. Please wait.' % root)\n",
    "    tar = tarfile.open(filename)\n",
    "    sys.stdout.flush()\n",
    "    tar.extractall(data_root)\n",
    "    tar.close()\n",
    "  data_folders = [\n",
    "    os.path.join(root, d) for d in sorted(os.listdir(root))\n",
    "    if os.path.isdir(os.path.join(root, d))]\n",
    "  if len(data_folders) != num_classes:\n",
    "    raise Exception(\n",
    "      'Expected %d folders, one per class. Found %d instead.' % (\n",
    "        num_classes, len(data_folders)))\n",
    "  print(data_folders)\n",
    "  return data_folders\n",
    "  \n",
    "train_folders = maybe_extract(train_filename)\n",
    "test_folders = maybe_extract(test_filename)"
   ]
  },
  {
   "cell_type": "code",
   "execution_count": 31,
   "metadata": {
    "scrolled": false
   },
   "outputs": [
    {
     "data": {
      "text/plain": [
       "['/data/zz/nlp/l9/res/notMNIST_small/A',\n",
       " '/data/zz/nlp/l9/res/notMNIST_small/B',\n",
       " '/data/zz/nlp/l9/res/notMNIST_small/C',\n",
       " '/data/zz/nlp/l9/res/notMNIST_small/D',\n",
       " '/data/zz/nlp/l9/res/notMNIST_small/E',\n",
       " '/data/zz/nlp/l9/res/notMNIST_small/F',\n",
       " '/data/zz/nlp/l9/res/notMNIST_small/G',\n",
       " '/data/zz/nlp/l9/res/notMNIST_small/H',\n",
       " '/data/zz/nlp/l9/res/notMNIST_small/I',\n",
       " '/data/zz/nlp/l9/res/notMNIST_small/J']"
      ]
     },
     "execution_count": 31,
     "metadata": {},
     "output_type": "execute_result"
    }
   ],
   "source": [
    "train_folders\n",
    "test_folders"
   ]
  },
  {
   "cell_type": "code",
   "execution_count": 32,
   "metadata": {
    "scrolled": true
   },
   "outputs": [
    {
     "name": "stdout",
     "output_type": "stream",
     "text": [
      "Pickling /data/zz/nlp/l9/res/notMNIST_large/A.pickle.\n",
      "/data/zz/nlp/l9/res/notMNIST_large/A\n",
      "Could not read: /data/zz/nlp/l9/res/notMNIST_large/A/Um9tYW5hIEJvbGQucGZi.png : Could not find a format to read the specified file in mode 'i' - it's ok, skipping.\n",
      "Could not read: /data/zz/nlp/l9/res/notMNIST_large/A/SG90IE11c3RhcmQgQlROIFBvc3Rlci50dGY=.png : Could not find a format to read the specified file in mode 'i' - it's ok, skipping.\n",
      "Could not read: /data/zz/nlp/l9/res/notMNIST_large/A/RnJlaWdodERpc3BCb29rSXRhbGljLnR0Zg==.png : Could not find a format to read the specified file in mode 'i' - it's ok, skipping.\n",
      "Full dataset tensor: (52909, 28, 28)\n",
      "Mean: -0.1282502\n",
      "Standard deviation: 0.44312108\n",
      "Pickling /data/zz/nlp/l9/res/notMNIST_large/B.pickle.\n",
      "/data/zz/nlp/l9/res/notMNIST_large/B\n",
      "Could not read: /data/zz/nlp/l9/res/notMNIST_large/B/TmlraXNFRi1TZW1pQm9sZEl0YWxpYy5vdGY=.png : Could not find a format to read the specified file in mode 'i' - it's ok, skipping.\n",
      "Full dataset tensor: (52911, 28, 28)\n",
      "Mean: -0.007563037\n",
      "Standard deviation: 0.45449135\n",
      "Pickling /data/zz/nlp/l9/res/notMNIST_large/C.pickle.\n",
      "/data/zz/nlp/l9/res/notMNIST_large/C\n",
      "Full dataset tensor: (52912, 28, 28)\n",
      "Mean: -0.14225805\n",
      "Standard deviation: 0.4398061\n",
      "Pickling /data/zz/nlp/l9/res/notMNIST_large/D.pickle.\n",
      "/data/zz/nlp/l9/res/notMNIST_large/D\n",
      "Could not read: /data/zz/nlp/l9/res/notMNIST_large/D/VHJhbnNpdCBCb2xkLnR0Zg==.png : Could not find a format to read the specified file in mode 'i' - it's ok, skipping.\n",
      "Full dataset tensor: (52911, 28, 28)\n",
      "Mean: -0.057367764\n",
      "Standard deviation: 0.45564747\n",
      "Pickling /data/zz/nlp/l9/res/notMNIST_large/E.pickle.\n",
      "/data/zz/nlp/l9/res/notMNIST_large/E\n",
      "Full dataset tensor: (52912, 28, 28)\n",
      "Mean: -0.06989894\n",
      "Standard deviation: 0.45294157\n",
      "Pickling /data/zz/nlp/l9/res/notMNIST_large/F.pickle.\n",
      "/data/zz/nlp/l9/res/notMNIST_large/F\n",
      "Full dataset tensor: (52912, 28, 28)\n",
      "Mean: -0.12558322\n",
      "Standard deviation: 0.44708985\n",
      "Pickling /data/zz/nlp/l9/res/notMNIST_large/G.pickle.\n",
      "/data/zz/nlp/l9/res/notMNIST_large/G\n",
      "Full dataset tensor: (52912, 28, 28)\n",
      "Mean: -0.09458162\n",
      "Standard deviation: 0.44624022\n",
      "Pickling /data/zz/nlp/l9/res/notMNIST_large/H.pickle.\n",
      "/data/zz/nlp/l9/res/notMNIST_large/H\n",
      "Full dataset tensor: (52912, 28, 28)\n",
      "Mean: -0.06852219\n",
      "Standard deviation: 0.4542314\n",
      "Pickling /data/zz/nlp/l9/res/notMNIST_large/I.pickle.\n",
      "/data/zz/nlp/l9/res/notMNIST_large/I\n",
      "Full dataset tensor: (52912, 28, 28)\n",
      "Mean: 0.030786244\n",
      "Standard deviation: 0.4688984\n",
      "Pickling /data/zz/nlp/l9/res/notMNIST_large/J.pickle.\n",
      "/data/zz/nlp/l9/res/notMNIST_large/J\n",
      "Full dataset tensor: (52911, 28, 28)\n",
      "Mean: -0.15335837\n",
      "Standard deviation: 0.44365638\n",
      "Pickling /data/zz/nlp/l9/res/notMNIST_small/A.pickle.\n",
      "/data/zz/nlp/l9/res/notMNIST_small/A\n",
      "Could not read: /data/zz/nlp/l9/res/notMNIST_small/A/RGVtb2NyYXRpY2FCb2xkT2xkc3R5bGUgQm9sZC50dGY=.png : Could not find a format to read the specified file in mode 'i' - it's ok, skipping.\n",
      "Full dataset tensor: (1872, 28, 28)\n",
      "Mean: -0.13262637\n",
      "Standard deviation: 0.44512793\n",
      "Pickling /data/zz/nlp/l9/res/notMNIST_small/B.pickle.\n",
      "/data/zz/nlp/l9/res/notMNIST_small/B\n",
      "Full dataset tensor: (1873, 28, 28)\n",
      "Mean: 0.0053560827\n",
      "Standard deviation: 0.45711535\n",
      "Pickling /data/zz/nlp/l9/res/notMNIST_small/C.pickle.\n",
      "/data/zz/nlp/l9/res/notMNIST_small/C\n",
      "Full dataset tensor: (1873, 28, 28)\n",
      "Mean: -0.14152054\n",
      "Standard deviation: 0.4426903\n",
      "Pickling /data/zz/nlp/l9/res/notMNIST_small/D.pickle.\n",
      "/data/zz/nlp/l9/res/notMNIST_small/D\n",
      "Full dataset tensor: (1873, 28, 28)\n",
      "Mean: -0.049216665\n",
      "Standard deviation: 0.459759\n",
      "Pickling /data/zz/nlp/l9/res/notMNIST_small/E.pickle.\n",
      "/data/zz/nlp/l9/res/notMNIST_small/E\n",
      "Full dataset tensor: (1873, 28, 28)\n",
      "Mean: -0.05991477\n",
      "Standard deviation: 0.4573496\n",
      "Pickling /data/zz/nlp/l9/res/notMNIST_small/F.pickle.\n",
      "/data/zz/nlp/l9/res/notMNIST_small/F\n",
      "Could not read: /data/zz/nlp/l9/res/notMNIST_small/F/Q3Jvc3NvdmVyIEJvbGRPYmxpcXVlLnR0Zg==.png : Could not find a format to read the specified file in mode 'i' - it's ok, skipping.\n",
      "Full dataset tensor: (1872, 28, 28)\n",
      "Mean: -0.118185334\n",
      "Standard deviation: 0.45227867\n",
      "Pickling /data/zz/nlp/l9/res/notMNIST_small/G.pickle.\n",
      "/data/zz/nlp/l9/res/notMNIST_small/G\n",
      "Full dataset tensor: (1872, 28, 28)\n",
      "Mean: -0.092550315\n",
      "Standard deviation: 0.44900584\n",
      "Pickling /data/zz/nlp/l9/res/notMNIST_small/H.pickle.\n",
      "/data/zz/nlp/l9/res/notMNIST_small/H\n",
      "Full dataset tensor: (1872, 28, 28)\n",
      "Mean: -0.05868924\n",
      "Standard deviation: 0.45875892\n",
      "Pickling /data/zz/nlp/l9/res/notMNIST_small/I.pickle.\n",
      "/data/zz/nlp/l9/res/notMNIST_small/I\n",
      "Full dataset tensor: (1872, 28, 28)\n",
      "Mean: 0.052645072\n",
      "Standard deviation: 0.47189352\n",
      "Pickling /data/zz/nlp/l9/res/notMNIST_small/J.pickle.\n",
      "/data/zz/nlp/l9/res/notMNIST_small/J\n",
      "Full dataset tensor: (1872, 28, 28)\n",
      "Mean: -0.15168916\n",
      "Standard deviation: 0.44801366\n"
     ]
    }
   ],
   "source": [
    "image_size = 28  # Pixel width and height.\n",
    "pixel_depth = 255.0  # Number of levels per pixel.\n",
    "\n",
    "def load_letter(folder, min_num_images):\n",
    "  \"\"\"Load the data for a single letter label.\"\"\"\n",
    "  image_files = os.listdir(folder)\n",
    "  dataset = np.ndarray(shape=(len(image_files), image_size, image_size),\n",
    "                         dtype=np.float32)\n",
    "  print(folder)\n",
    "  num_images = 0\n",
    "  for image in image_files:\n",
    "    image_file = os.path.join(folder, image)\n",
    "    try:\n",
    "      image_data = (imageio.imread(image_file).astype(float) - \n",
    "                    pixel_depth / 2) / pixel_depth\n",
    "      if image_data.shape != (image_size, image_size):\n",
    "        raise Exception('Unexpected image shape: %s' % str(image_data.shape))\n",
    "      dataset[num_images, :, :] = image_data\n",
    "      num_images = num_images + 1\n",
    "    except (IOError, ValueError) as e:\n",
    "      print('Could not read:', image_file, ':', e, '- it\\'s ok, skipping.')\n",
    "    \n",
    "  dataset = dataset[0:num_images, :, :]\n",
    "  if num_images < min_num_images:\n",
    "    raise Exception('Many fewer images than expected: %d < %d' %\n",
    "                    (num_images, min_num_images))\n",
    "    \n",
    "  print('Full dataset tensor:', dataset.shape)\n",
    "  print('Mean:', np.mean(dataset))\n",
    "  print('Standard deviation:', np.std(dataset))\n",
    "  return dataset\n",
    "        \n",
    "def maybe_pickle(data_folders, min_num_images_per_class, force=False):\n",
    "  dataset_names = []\n",
    "  for folder in data_folders:\n",
    "    set_filename = folder + '.pickle'\n",
    "    dataset_names.append(set_filename)\n",
    "    if os.path.exists(set_filename) and not force:\n",
    "      # You may override by setting force=True.\n",
    "      print('%s already present - Skipping pickling.' % set_filename)\n",
    "    else:\n",
    "      print('Pickling %s.' % set_filename)\n",
    "      dataset = load_letter(folder, min_num_images_per_class)\n",
    "      try:\n",
    "        with open(set_filename, 'wb') as f:\n",
    "          pickle.dump(dataset, f, pickle.HIGHEST_PROTOCOL)\n",
    "      except Exception as e:\n",
    "        print('Unable to save data to', set_filename, ':', e)\n",
    "  \n",
    "  return dataset_names\n",
    "\n",
    "train_datasets = maybe_pickle(train_folders, 45000)\n",
    "test_datasets = maybe_pickle(test_folders, 1800)"
   ]
  },
  {
   "cell_type": "markdown",
   "metadata": {},
   "source": [
    "## Problem 2"
   ]
  },
  {
   "cell_type": "code",
   "execution_count": 33,
   "metadata": {},
   "outputs": [
    {
     "data": {
      "text/plain": [
       "['/data/zz/nlp/l9/res/notMNIST_large/A.pickle',\n",
       " '/data/zz/nlp/l9/res/notMNIST_large/B.pickle',\n",
       " '/data/zz/nlp/l9/res/notMNIST_large/C.pickle',\n",
       " '/data/zz/nlp/l9/res/notMNIST_large/D.pickle',\n",
       " '/data/zz/nlp/l9/res/notMNIST_large/E.pickle',\n",
       " '/data/zz/nlp/l9/res/notMNIST_large/F.pickle',\n",
       " '/data/zz/nlp/l9/res/notMNIST_large/G.pickle',\n",
       " '/data/zz/nlp/l9/res/notMNIST_large/H.pickle',\n",
       " '/data/zz/nlp/l9/res/notMNIST_large/I.pickle',\n",
       " '/data/zz/nlp/l9/res/notMNIST_large/J.pickle']"
      ]
     },
     "execution_count": 33,
     "metadata": {},
     "output_type": "execute_result"
    }
   ],
   "source": [
    "train_datasets"
   ]
  },
  {
   "cell_type": "code",
   "execution_count": 34,
   "metadata": {},
   "outputs": [],
   "source": [
    "file_name_pickle = data_root + 'notMNIST_large/A.pickle'\n",
    "try:\n",
    "    with open(file_name_pickle, 'rb') as f:\n",
    "        data_pickle_a = pickle.load(f)\n",
    "        \n",
    "except Exception as e:\n",
    "    print('Unable to open data to', file_name_pickle, ':', e)\n"
   ]
  },
  {
   "cell_type": "code",
   "execution_count": 35,
   "metadata": {},
   "outputs": [
    {
     "data": {
      "text/plain": [
       "<matplotlib.image.AxesImage at 0x7f1c69716c18>"
      ]
     },
     "execution_count": 35,
     "metadata": {},
     "output_type": "execute_result"
    },
    {
     "data": {
      "image/png": "[encoded data removed]",
      "text/plain": [
       "<Figure size 432x288 with 1 Axes>"
      ]
     },
     "metadata": {
      "needs_background": "light"
     },
     "output_type": "display_data"
    }
   ],
   "source": [
    "data_pickle_a[1,:,:]\n",
    "plt.imshow(data_pickle_a[100,:,:])"
   ]
  },
  {
   "cell_type": "code",
   "execution_count": 36,
   "metadata": {},
   "outputs": [
    {
     "data": {
      "text/plain": [
       "'/data/zz/nlp/l9/res/notMNIST_large/A.pickle'"
      ]
     },
     "execution_count": 36,
     "metadata": {},
     "output_type": "execute_result"
    }
   ],
   "source": [
    "file_name_pickle"
   ]
  },
  {
   "cell_type": "code",
   "execution_count": 37,
   "metadata": {
    "scrolled": true
   },
   "outputs": [
    {
     "data": {
      "text/plain": [
       "['/data/zz/nlp/l9/res/notMNIST_small/A.pickle',\n",
       " '/data/zz/nlp/l9/res/notMNIST_small/B.pickle',\n",
       " '/data/zz/nlp/l9/res/notMNIST_small/C.pickle',\n",
       " '/data/zz/nlp/l9/res/notMNIST_small/D.pickle',\n",
       " '/data/zz/nlp/l9/res/notMNIST_small/E.pickle',\n",
       " '/data/zz/nlp/l9/res/notMNIST_small/F.pickle',\n",
       " '/data/zz/nlp/l9/res/notMNIST_small/G.pickle',\n",
       " '/data/zz/nlp/l9/res/notMNIST_small/H.pickle',\n",
       " '/data/zz/nlp/l9/res/notMNIST_small/I.pickle',\n",
       " '/data/zz/nlp/l9/res/notMNIST_small/J.pickle']"
      ]
     },
     "execution_count": 37,
     "metadata": {},
     "output_type": "execute_result"
    }
   ],
   "source": [
    "test_datasets"
   ]
  },
  {
   "cell_type": "code",
   "execution_count": 40,
   "metadata": {},
   "outputs": [],
   "source": [
    "file_name_pickle = data_root + 'notMNIST_small/A.pickle'\n",
    "try:\n",
    "    with open(file_name_pickle, 'rb') as f:\n",
    "        data_small_a = pickle.load(f)        \n",
    "except Exception as e:\n",
    "    print('Unable to open data to', file_name_pickle, ':', e)\n"
   ]
  },
  {
   "cell_type": "code",
   "execution_count": 39,
   "metadata": {},
   "outputs": [
    {
     "data": {
      "text/plain": [
       "'/data/zz/nlp/l9/res/notMNIST_small/A.pickle'"
      ]
     },
     "execution_count": 39,
     "metadata": {},
     "output_type": "execute_result"
    }
   ],
   "source": [
    "file_name_pickle"
   ]
  },
  {
   "cell_type": "code",
   "execution_count": 41,
   "metadata": {},
   "outputs": [
    {
     "data": {
      "text/plain": [
       "<matplotlib.image.AxesImage at 0x7f1c68d3f908>"
      ]
     },
     "execution_count": 41,
     "metadata": {},
     "output_type": "execute_result"
    },
    {
     "data": {
      "image/png": "[encoded data removed]",
      "text/plain": [
       "<Figure size 432x288 with 1 Axes>"
      ]
     },
     "metadata": {
      "needs_background": "light"
     },
     "output_type": "display_data"
    }
   ],
   "source": [
    "plt.imshow(data_small_a[60,:,:])"
   ]
  },
  {
   "cell_type": "markdown",
   "metadata": {},
   "source": [
    "## Problem 3"
   ]
  },
  {
   "cell_type": "code",
   "execution_count": 42,
   "metadata": {},
   "outputs": [
    {
     "name": "stdout",
     "output_type": "stream",
     "text": [
      "Training: (200000, 28, 28) (200000,)\n",
      "Validation: (10000, 28, 28) (10000,)\n",
      "Testing: (10000, 28, 28) (10000,)\n"
     ]
    }
   ],
   "source": [
    "def make_arrays(nb_rows, img_size):\n",
    "  if nb_rows:\n",
    "    dataset = np.ndarray((nb_rows, img_size, img_size), dtype=np.float32)\n",
    "    labels = np.ndarray(nb_rows, dtype=np.int32)\n",
    "  else:\n",
    "    dataset, labels = None, None\n",
    "  return dataset, labels\n",
    "\n",
    "def merge_datasets(pickle_files, train_size, valid_size=0):\n",
    "  num_classes = len(pickle_files)\n",
    "  valid_dataset, valid_labels = make_arrays(valid_size, image_size)\n",
    "  train_dataset, train_labels = make_arrays(train_size, image_size)\n",
    "  vsize_per_class = valid_size // num_classes\n",
    "  tsize_per_class = train_size // num_classes\n",
    "    \n",
    "  start_v, start_t = 0, 0\n",
    "  end_v, end_t = vsize_per_class, tsize_per_class\n",
    "  end_l = vsize_per_class+tsize_per_class\n",
    "  for label, pickle_file in enumerate(pickle_files):       \n",
    "    try:\n",
    "      with open(pickle_file, 'rb') as f:\n",
    "        letter_set = pickle.load(f)\n",
    "        # let's shuffle the letters to have random validation and training set\n",
    "        np.random.shuffle(letter_set)\n",
    "        if valid_dataset is not None:\n",
    "          valid_letter = letter_set[:vsize_per_class, :, :]\n",
    "          valid_dataset[start_v:end_v, :, :] = valid_letter\n",
    "          valid_labels[start_v:end_v] = label\n",
    "          start_v += vsize_per_class\n",
    "          end_v += vsize_per_class\n",
    "                    \n",
    "        train_letter = letter_set[vsize_per_class:end_l, :, :]\n",
    "        train_dataset[start_t:end_t, :, :] = train_letter\n",
    "        train_labels[start_t:end_t] = label\n",
    "        start_t += tsize_per_class\n",
    "        end_t += tsize_per_class\n",
    "    except Exception as e:\n",
    "      print('Unable to process data from', pickle_file, ':', e)\n",
    "      raise\n",
    "    \n",
    "  return valid_dataset, valid_labels, train_dataset, train_labels\n",
    "            \n",
    "            \n",
    "train_size = 200000\n",
    "valid_size = 10000\n",
    "test_size = 10000\n",
    "\n",
    "valid_dataset, valid_labels, train_dataset, train_labels = merge_datasets(\n",
    "  train_datasets, train_size, valid_size)\n",
    "_, _, test_dataset, test_labels = merge_datasets(test_datasets, test_size)\n",
    "\n",
    "print('Training:', train_dataset.shape, train_labels.shape)\n",
    "print('Validation:', valid_dataset.shape, valid_labels.shape)\n",
    "print('Testing:', test_dataset.shape, test_labels.shape)"
   ]
  },
  {
   "cell_type": "code",
   "execution_count": 43,
   "metadata": {},
   "outputs": [],
   "source": [
    "def randomize(dataset, labels):\n",
    "  permutation = np.random.permutation(labels.shape[0])\n",
    "  shuffled_dataset = dataset[permutation,:,:]\n",
    "  shuffled_labels = labels[permutation]\n",
    "  return shuffled_dataset, shuffled_labels\n",
    "train_dataset, train_labels = randomize(train_dataset, train_labels)\n",
    "test_dataset, test_labels = randomize(test_dataset, test_labels)\n",
    "valid_dataset, valid_labels = randomize(valid_dataset, valid_labels)"
   ]
  },
  {
   "cell_type": "code",
   "execution_count": 44,
   "metadata": {},
   "outputs": [
    {
     "name": "stdout",
     "output_type": "stream",
     "text": [
      "Training: (200000, 28, 28) (200000,)\n",
      "Validation: (10000, 28, 28) (10000,)\n",
      "Testing: (10000, 28, 28) (10000,)\n"
     ]
    }
   ],
   "source": [
    "print('Training:', train_dataset.shape, train_labels.shape)\n",
    "print('Validation:', valid_dataset.shape, valid_labels.shape)\n",
    "print('Testing:', test_dataset.shape, test_labels.shape)"
   ]
  },
  {
   "cell_type": "markdown",
   "metadata": {},
   "source": [
    "## Problem 4"
   ]
  },
  {
   "cell_type": "code",
   "execution_count": 45,
   "metadata": {},
   "outputs": [
    {
     "data": {
      "text/plain": [
       "'/data/zz/nlp/l9/res/'"
      ]
     },
     "execution_count": 45,
     "metadata": {},
     "output_type": "execute_result"
    }
   ],
   "source": [
    "data_root"
   ]
  },
  {
   "cell_type": "code",
   "execution_count": 46,
   "metadata": {},
   "outputs": [],
   "source": [
    "pickle_file = os.path.join(data_root, 'notMNIST.pickle')\n",
    "\n",
    "try:\n",
    "  f = open(pickle_file, 'wb')\n",
    "  save = {\n",
    "    'train_dataset': train_dataset,\n",
    "    'train_labels': train_labels,\n",
    "    'valid_dataset': valid_dataset,\n",
    "    'valid_labels': valid_labels,\n",
    "    'test_dataset': test_dataset,\n",
    "    'test_labels': test_labels,\n",
    "    }\n",
    "  pickle.dump(save, f, pickle.HIGHEST_PROTOCOL)\n",
    "  f.close()\n",
    "except Exception as e:\n",
    "  print('Unable to save data to', pickle_file, ':', e)\n",
    "  raise"
   ]
  },
  {
   "cell_type": "code",
   "execution_count": 47,
   "metadata": {},
   "outputs": [
    {
     "name": "stdout",
     "output_type": "stream",
     "text": [
      "Compressed pickle size: 690800506\n"
     ]
    }
   ],
   "source": [
    "statinfo = os.stat(pickle_file)\n",
    "print('Compressed pickle size:', statinfo.st_size)"
   ]
  },
  {
   "cell_type": "markdown",
   "metadata": {},
   "source": [
    "## Problem 5"
   ]
  },
  {
   "cell_type": "code",
   "execution_count": null,
   "metadata": {},
   "outputs": [],
   "source": []
  },
  {
   "cell_type": "markdown",
   "metadata": {},
   "source": [
    "## Problem 6  逻辑回归训练"
   ]
  },
  {
   "cell_type": "code",
   "execution_count": 48,
   "metadata": {},
   "outputs": [],
   "source": [
    "from sklearn.model_selection import train_test_split\n",
    "from sklearn.linear_model import LogisticRegression\n",
    "clr = LogisticRegression(penalty = 'l2',solver='saga', verbose=1)"
   ]
  },
  {
   "cell_type": "markdown",
   "metadata": {},
   "source": [
    "### 1、Full train dataset"
   ]
  },
  {
   "cell_type": "code",
   "execution_count": 50,
   "metadata": {},
   "outputs": [
    {
     "name": "stderr",
     "output_type": "stream",
     "text": [
      "/usr/local/Python36/lib/python3.6/site-packages/sklearn/linear_model/logistic.py:469: FutureWarning: Default multi_class will be changed to 'auto' in 0.22. Specify the multi_class option to silence this warning.\n",
      "  \"this warning.\", FutureWarning)\n",
      "[Parallel(n_jobs=1)]: Using backend SequentialBackend with 1 concurrent workers.\n"
     ]
    },
    {
     "name": "stdout",
     "output_type": "stream",
     "text": [
      "max_iter reached after 198 seconds\n"
     ]
    },
    {
     "name": "stderr",
     "output_type": "stream",
     "text": [
      "/usr/local/Python36/lib/python3.6/site-packages/sklearn/linear_model/sag.py:337: ConvergenceWarning: The max_iter was reached which means the coef_ did not converge\n",
      "  \"the coef_ did not converge\", ConvergenceWarning)\n"
     ]
    },
    {
     "name": "stdout",
     "output_type": "stream",
     "text": [
      "max_iter reached after 198 seconds\n",
      "max_iter reached after 198 seconds\n",
      "max_iter reached after 343 seconds\n",
      "max_iter reached after 198 seconds\n",
      "max_iter reached after 197 seconds\n",
      "max_iter reached after 199 seconds\n",
      "max_iter reached after 198 seconds\n",
      "max_iter reached after 197 seconds\n",
      "max_iter reached after 199 seconds\n"
     ]
    },
    {
     "name": "stderr",
     "output_type": "stream",
     "text": [
      "[Parallel(n_jobs=1)]: Done  10 out of  10 | elapsed: 35.4min finished\n"
     ]
    },
    {
     "data": {
      "text/plain": [
       "LogisticRegression(C=1.0, class_weight=None, dual=False, fit_intercept=True,\n",
       "                   intercept_scaling=1, l1_ratio=None, max_iter=100,\n",
       "                   multi_class='warn', n_jobs=None, penalty='l2',\n",
       "                   random_state=None, solver='saga', tol=0.0001, verbose=1,\n",
       "                   warm_start=False)"
      ]
     },
     "execution_count": 50,
     "metadata": {},
     "output_type": "execute_result"
    }
   ],
   "source": [
    "clr.fit(train_dataset.reshape((-1, 28*28)), train_labels)"
   ]
  },
  {
   "cell_type": "code",
   "execution_count": 51,
   "metadata": {},
   "outputs": [],
   "source": [
    "y_predict = clr.predict(test_dataset.reshape((-1, 28*28)))"
   ]
  },
  {
   "cell_type": "code",
   "execution_count": 53,
   "metadata": {},
   "outputs": [],
   "source": [
    "probility = clr.predict_proba(test_dataset.reshape((-1, 28*28)))           #计算各测试样本基于概率的预测 "
   ]
  },
  {
   "cell_type": "code",
   "execution_count": 54,
   "metadata": {},
   "outputs": [],
   "source": [
    "score = clr.score(test_dataset.reshape((-1, 28*28)),test_labels,sample_weight=None)    #调用该对象的打分方法，计算出准确率"
   ]
  },
  {
   "cell_type": "code",
   "execution_count": 56,
   "metadata": {},
   "outputs": [
    {
     "name": "stdout",
     "output_type": "stream",
     "text": [
      "Accuracy: 0.892\n"
     ]
    }
   ],
   "source": [
    "print('Accuracy:', score)"
   ]
  },
  {
   "cell_type": "markdown",
   "metadata": {},
   "source": [
    "### 2、100 train dataset"
   ]
  },
  {
   "cell_type": "code",
   "execution_count": 68,
   "metadata": {},
   "outputs": [
    {
     "name": "stderr",
     "output_type": "stream",
     "text": [
      "/usr/local/Python36/lib/python3.6/site-packages/sklearn/linear_model/logistic.py:469: FutureWarning: Default multi_class will be changed to 'auto' in 0.22. Specify the multi_class option to silence this warning.\n",
      "  \"this warning.\", FutureWarning)\n",
      "[Parallel(n_jobs=1)]: Using backend SequentialBackend with 1 concurrent workers.\n",
      "/usr/local/Python36/lib/python3.6/site-packages/sklearn/linear_model/sag.py:337: ConvergenceWarning: The max_iter was reached which means the coef_ did not converge\n",
      "  \"the coef_ did not converge\", ConvergenceWarning)\n"
     ]
    },
    {
     "name": "stdout",
     "output_type": "stream",
     "text": [
      "max_iter reached after 1 seconds\n",
      "max_iter reached after 0 seconds\n",
      "max_iter reached after 0 seconds\n",
      "max_iter reached after 0 seconds\n",
      "max_iter reached after 0 seconds\n",
      "max_iter reached after 0 seconds\n",
      "max_iter reached after 0 seconds\n",
      "max_iter reached after 0 seconds\n",
      "max_iter reached after 0 seconds\n",
      "max_iter reached after 0 seconds\n",
      "Accuracy: 0.67\n"
     ]
    },
    {
     "name": "stderr",
     "output_type": "stream",
     "text": [
      "[Parallel(n_jobs=1)]: Done  10 out of  10 | elapsed:    0.9s finished\n"
     ]
    }
   ],
   "source": [
    "max_index = 100\n",
    "clr.fit(train_dataset[:max_index].reshape((-1, 28*28)), train_labels[:max_index])\n",
    "y_predict = clr.predict(test_dataset[:max_index].reshape((-1, 28*28)))\n",
    "probility = clr.predict_proba(test_dataset[:max_index].reshape((-1, 28*28)))           #计算各测试样本基于概率的预测 \n",
    "score = clr.score(test_dataset[:max_index].reshape((-1, 28*28)),test_labels[:max_index],sample_weight=None)    #调用该对象的打分方法，计算出准确率\n",
    "print('Accuracy:', score)"
   ]
  },
  {
   "cell_type": "markdown",
   "metadata": {},
   "source": [
    "### 3、1000 train dataset"
   ]
  },
  {
   "cell_type": "code",
   "execution_count": 69,
   "metadata": {},
   "outputs": [
    {
     "name": "stderr",
     "output_type": "stream",
     "text": [
      "/usr/local/Python36/lib/python3.6/site-packages/sklearn/linear_model/logistic.py:469: FutureWarning: Default multi_class will be changed to 'auto' in 0.22. Specify the multi_class option to silence this warning.\n",
      "  \"this warning.\", FutureWarning)\n",
      "[Parallel(n_jobs=1)]: Using backend SequentialBackend with 1 concurrent workers.\n"
     ]
    },
    {
     "name": "stdout",
     "output_type": "stream",
     "text": [
      "max_iter reached after 1 seconds\n"
     ]
    },
    {
     "name": "stderr",
     "output_type": "stream",
     "text": [
      "/usr/local/Python36/lib/python3.6/site-packages/sklearn/linear_model/sag.py:337: ConvergenceWarning: The max_iter was reached which means the coef_ did not converge\n",
      "  \"the coef_ did not converge\", ConvergenceWarning)\n"
     ]
    },
    {
     "name": "stdout",
     "output_type": "stream",
     "text": [
      "max_iter reached after 1 seconds\n",
      "max_iter reached after 1 seconds\n",
      "max_iter reached after 1 seconds\n",
      "max_iter reached after 1 seconds\n",
      "max_iter reached after 0 seconds\n",
      "max_iter reached after 1 seconds\n",
      "max_iter reached after 1 seconds\n",
      "max_iter reached after 1 seconds\n",
      "max_iter reached after 1 seconds\n",
      "Accuracy: 0.82\n"
     ]
    },
    {
     "name": "stderr",
     "output_type": "stream",
     "text": [
      "[Parallel(n_jobs=1)]: Done  10 out of  10 | elapsed:    9.1s finished\n"
     ]
    }
   ],
   "source": [
    "max_index = 1000\n",
    "clr.fit(train_dataset[:max_index].reshape((-1, 28*28)), train_labels[:max_index])\n",
    "y_predict = clr.predict(test_dataset[:max_index].reshape((-1, 28*28)))\n",
    "probility = clr.predict_proba(test_dataset[:max_index].reshape((-1, 28*28)))           #计算各测试样本基于概率的预测 \n",
    "score = clr.score(test_dataset[:max_index].reshape((-1, 28*28)),test_labels[:max_index],sample_weight=None)    #调用该对象的打分方法，计算出准确率\n",
    "print('Accuracy:', score)"
   ]
  },
  {
   "cell_type": "markdown",
   "metadata": {},
   "source": [
    "### 4、5000 train dataset"
   ]
  },
  {
   "cell_type": "code",
   "execution_count": 67,
   "metadata": {},
   "outputs": [
    {
     "name": "stderr",
     "output_type": "stream",
     "text": [
      "/usr/local/Python36/lib/python3.6/site-packages/sklearn/linear_model/logistic.py:469: FutureWarning: Default multi_class will be changed to 'auto' in 0.22. Specify the multi_class option to silence this warning.\n",
      "  \"this warning.\", FutureWarning)\n",
      "[Parallel(n_jobs=1)]: Using backend SequentialBackend with 1 concurrent workers.\n"
     ]
    },
    {
     "name": "stdout",
     "output_type": "stream",
     "text": [
      "max_iter reached after 5 seconds\n"
     ]
    },
    {
     "name": "stderr",
     "output_type": "stream",
     "text": [
      "/usr/local/Python36/lib/python3.6/site-packages/sklearn/linear_model/sag.py:337: ConvergenceWarning: The max_iter was reached which means the coef_ did not converge\n",
      "  \"the coef_ did not converge\", ConvergenceWarning)\n"
     ]
    },
    {
     "name": "stdout",
     "output_type": "stream",
     "text": [
      "max_iter reached after 4 seconds\n",
      "max_iter reached after 5 seconds\n",
      "max_iter reached after 4 seconds\n",
      "max_iter reached after 5 seconds\n",
      "max_iter reached after 4 seconds\n",
      "max_iter reached after 5 seconds\n",
      "max_iter reached after 4 seconds\n",
      "max_iter reached after 5 seconds\n",
      "max_iter reached after 5 seconds\n",
      "Accuracy: 0.853\n"
     ]
    },
    {
     "name": "stderr",
     "output_type": "stream",
     "text": [
      "[Parallel(n_jobs=1)]: Done  10 out of  10 | elapsed:   45.6s finished\n"
     ]
    }
   ],
   "source": [
    "max_index = 5000\n",
    "clr.fit(train_dataset[:max_index].reshape((-1, 28*28)), train_labels[:max_index])\n",
    "y_predict = clr.predict(test_dataset[:max_index].reshape((-1, 28*28)))\n",
    "probility = clr.predict_proba(test_dataset[:max_index].reshape((-1, 28*28)))           #计算各测试样本基于概率的预测 \n",
    "score = clr.score(test_dataset[:max_index].reshape((-1, 28*28)),test_labels[:max_index],sample_weight=None)    #调用该对象的打分方法，计算出准确率\n",
    "print('Accuracy:', score)"
   ]
  },
  {
   "cell_type": "code",
   "execution_count": null,
   "metadata": {},
   "outputs": [],
   "source": []
  }
 ],
 "metadata": {
  "kernelspec": {
   "display_name": "Python 3",
   "language": "python",
   "name": "python3"
  },
  "language_info": {
   "codemirror_mode": {
    "name": "ipython",
    "version": 3
   },
   "file_extension": ".py",
   "mimetype": "text/x-python",
   "name": "python",
   "nbconvert_exporter": "python",
   "pygments_lexer": "ipython3",
   "version": "3.6.5"
  }
 },
 "nbformat": 4,
 "nbformat_minor": 2
}
